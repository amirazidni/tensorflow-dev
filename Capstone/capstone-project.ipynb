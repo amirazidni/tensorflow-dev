{
  "cells": [
    {
      "cell_type": "markdown",
      "metadata": {
        "id": "P48tc2qgL__u"
      },
      "source": [
        "# Proyek Akhir : Klasifikasi Gambar\n",
        "Nama: Zidni Iman Sholihati\n",
        "\n",
        " profil: [URL](https://project.com/users/amirah_zidni)\n",
        "\n",
        "Email: zidni.imani@gmail.com / m1821860@bangkit.academy\n",
        "\n"
      ]
    },
    {
      "cell_type": "markdown",
      "metadata": {
        "id": "ZE0HsPyvM_mV"
      },
      "source": [
        "Intruksi/kriteria submission:\n",
        "1. Dataset yang dipakai haruslah dataset berikut : [rockpaperscissors](https://academy.blob.core.windows.net/picodiploma/ml_pemula_academy/rockpaperscissors.zip).\n",
        "2. Dataset harus dibagi menjadi train set dan validation set.\n",
        "Ukuran validation set harus 40% dari total dataset (data training memiliki 1314 sampel, dan data validasi sebanyak 874 sampel).\n",
        "3. Harus mengimplementasikan augmentasi gambar.\n",
        "4. Menggunakan image data generator.\n",
        "5. Model harus menggunakan model sequential.\n",
        "6. Pelatihan model tidak melebihi waktu 30 menit.\n",
        "7. Program dikerjakan pada Google Colaboratory. (done)\n",
        "8. Akurasi dari model minimal 85%.\n",
        "9. Dapat memprediksi gambar yang diunggah ke Colab.\n",
        "10. Manambahkan data diri (sesuai profil) pada submission/project yang dikirimkan. (done)\n",
        "\n"
      ]
    },
    {
      "cell_type": "markdown",
      "metadata": {
        "id": "biIchCjzOXfI"
      },
      "source": [
        "Saran submission\n",
        "1. Akurasi dari model di atas 85%\n",
        "2. Anda menggunakan lebih dari 1 hidden layer.\n",
        "3. Menerapkan lebih banyak augmentasi gambar.\n",
        "4. Anda menggunakan optimizer dan loss-function yang tidak diajarkan di kelas."
      ]
    },
    {
      "cell_type": "code",
      "execution_count": 60,
      "metadata": {
        "id": "CRyzUsgeRcTt"
      },
      "outputs": [],
      "source": [
        "# Import library\n",
        "import zipfile\n",
        "import os\n",
        "import random\n",
        "import tensorflow as tf\n",
        "import numpy as np\n",
        "import matplotlib.pyplot as plt\n",
        "import matplotlib.image as mpimg\n",
        "\n",
        "from google.colab import files\n",
        "from keras.preprocessing import image\n",
        "from shutil import copyfile\n",
        "from tensorflow.keras.preprocessing.image import ImageDataGenerator\n",
        "from tensorflow.keras.applications.inception_v3 import InceptionV3\n",
        "from tensorflow.keras.optimizers import RMSprop"
      ]
    },
    {
      "cell_type": "markdown",
      "metadata": {
        "id": "vHqZUyK6Oljg"
      },
      "source": [
        "# 1. Download Dataset\n",
        "Dataset yang dipakai haruslah dataset berikut : rockpaperscissors."
      ]
    },
    {
      "cell_type": "code",
      "execution_count": null,
      "metadata": {
        "colab": {
          "base_uri": "https://localhost:8080/"
        },
        "id": "rm0TtuumOuaN",
        "outputId": "7083fc99-85b8-45ad-8c10-255a1cfe33af"
      },
      "outputs": [],
      "source": [
        "!wget --no-check-certificate \\\n",
        "      https://academy.blob.core.windows.net/picodiploma/ml_pemula_academy/rockpaperscissors.zip \\\n",
        "      -O /content/rockpaperscissors.zip"
      ]
    },
    {
      "cell_type": "code",
      "execution_count": 3,
      "metadata": {
        "id": "KnGp-ATyQj8d"
      },
      "outputs": [],
      "source": [
        "# unzip file\n",
        "zip_file = '/content/rockpaperscissors.zip'\n",
        "with zipfile.ZipFile(zip_file, 'r') as zip:\n",
        "  zip.extractall('/content')"
      ]
    },
    {
      "cell_type": "code",
      "execution_count": 4,
      "metadata": {
        "colab": {
          "base_uri": "https://localhost:8080/"
        },
        "id": "7lj70vwCR8LU",
        "outputId": "9d8f9317-ab57-46de-89a3-f1a57b37345a"
      },
      "outputs": [
        {
          "name": "stdout",
          "output_type": "stream",
          "text": [
            "726\n",
            "712\n",
            "750\n"
          ]
        }
      ],
      "source": [
        "# variabel directory\n",
        "sumber_dir = \"/content/rockpaperscissors\"\n",
        "base_dir = \"/content/rock-paper-scissors\"\n",
        "\n",
        "sumber_rock_dir = os.path.join(sumber_dir, 'rock')\n",
        "sumber_paper_dir = os.path.join(sumber_dir, 'paper')\n",
        "sumber_scissors_dir = os.path.join(sumber_dir, 'scissors')\n",
        "\n",
        "train_dir =  os.path.join(base_dir, 'train')\n",
        "train_rock_dir = os.path.join(train_dir, 'rock')\n",
        "train_paper_dir = os.path.join(train_dir, 'paper')\n",
        "train_scissors_dir = os.path.join(train_dir, 'scissors')\n",
        "\n",
        "validation_dir =  os.path.join(base_dir, 'validation')\n",
        "validation_rock_dir = os.path.join(validation_dir, 'rock')\n",
        "validation_paper_dir = os.path.join(validation_dir, 'paper')\n",
        "validation_scissors_dir = os.path.join(validation_dir, 'scissors')\n",
        "\n",
        "# cek dataset\n",
        "print(len(os.listdir(sumber_rock_dir)))\n",
        "print(len(os.listdir(sumber_paper_dir)))\n",
        "print(len(os.listdir(sumber_scissors_dir)))"
      ]
    },
    {
      "cell_type": "markdown",
      "metadata": {
        "id": "uFJC7B2cQEnV"
      },
      "source": [
        "# 2. Splitting Dataset\n",
        "Dataset harus dibagi menjadi train set dan validation set. Ukuran validation set harus 40% dari total dataset.\n",
        "\n",
        "Data training memiliki 1314 sampel, dan data validasi sebanyak 874 sampel"
      ]
    },
    {
      "cell_type": "code",
      "execution_count": 5,
      "metadata": {
        "id": "m5aEEETEAFsh"
      },
      "outputs": [],
      "source": [
        "# membuat directory\n",
        "list_dir = [base_dir,\n",
        "            train_dir,\n",
        "            validation_dir,\n",
        "            train_rock_dir,\n",
        "            train_paper_dir,\n",
        "            train_scissors_dir,\n",
        "            validation_rock_dir,\n",
        "            validation_paper_dir,\n",
        "            validation_scissors_dir,\n",
        "            ]\n",
        "for dir in list_dir:\n",
        "  try:\n",
        "    os.mkdir(dir)\n",
        "  except:\n",
        "    print(\"Directory sudah ada\")"
      ]
    },
    {
      "cell_type": "code",
      "execution_count": 6,
      "metadata": {
        "id": "Lu_VQmPJE9Fb"
      },
      "outputs": [],
      "source": [
        "# membuat splitter function dataset\n",
        "\n",
        "def splitter(sumber, train, validation, size):\n",
        "  \"\"\"\n",
        "  1. Mengambil list secara acak dari directory asal\n",
        "  2. Mengambil train data (60%) dari list acak\n",
        "  3. Sisanya (40%) masuk validation data \n",
        "  \"\"\"\n",
        "  # 1. Mengambil list secara acak dari directory asal\n",
        "  list_acak = random.sample(os.listdir(sumber), len(os.listdir(sumber)))\n",
        "\n",
        "  # 2. Mengambil validation data 40% dari list acak\n",
        "  train_list = list_acak[int(len(list_acak)*size)+1:]\n",
        "  for acak in list_acak:\n",
        "    if acak in train_list:\n",
        "      copyfile(sumber + \"/\" + acak, train + \"/\" + acak)\n",
        "    else:\n",
        "      copyfile(sumber + \"/\" + acak, validation + \"/\" + acak)\n",
        "\n",
        "split = .4\n",
        "# split berdasarkan kategori\n",
        "splitter(sumber_rock_dir, train_rock_dir, validation_rock_dir, split)\n",
        "splitter(sumber_paper_dir, train_paper_dir, validation_paper_dir, split)\n",
        "splitter(sumber_scissors_dir, train_scissors_dir, validation_scissors_dir, split)"
      ]
    },
    {
      "cell_type": "code",
      "execution_count": 7,
      "metadata": {
        "colab": {
          "base_uri": "https://localhost:8080/"
        },
        "id": "WtvO41reLN-N",
        "outputId": "08868fee-274b-4971-def5-5a63c88aca8a"
      },
      "outputs": [
        {
          "name": "stdout",
          "output_type": "stream",
          "text": [
            "Jumlah train set:  1311\n",
            "Jumlah validation set:  877\n"
          ]
        }
      ],
      "source": [
        "# cek hasilnya: Data training 1314, data validasi 874\n",
        "\n",
        "jumlah_train = len(os.listdir(train_rock_dir)) + len(os.listdir(train_paper_dir)) + len(os.listdir(train_scissors_dir))\n",
        "jumlah_validation = len(os.listdir(validation_rock_dir)) + len(os.listdir(validation_paper_dir)) + len(os.listdir(validation_scissors_dir))\n",
        "print(\"Jumlah train set: \", jumlah_train)\n",
        "print(\"Jumlah validation set: \", jumlah_validation)"
      ]
    },
    {
      "cell_type": "markdown",
      "metadata": {
        "id": "BZ8N1RbNOcJZ"
      },
      "source": [
        "# Augmentasi gambar\n",
        "Harus mengimplementasikan augmentasi gambar."
      ]
    },
    {
      "cell_type": "code",
      "execution_count": 8,
      "metadata": {
        "colab": {
          "base_uri": "https://localhost:8080/"
        },
        "id": "9QgOdKn1O4vH",
        "outputId": "cdc4aeb5-da20-4531-b5af-8ebe5a97074a"
      },
      "outputs": [
        {
          "name": "stdout",
          "output_type": "stream",
          "text": [
            "Found 1311 images belonging to 3 classes.\n",
            "Found 877 images belonging to 3 classes.\n"
          ]
        }
      ],
      "source": [
        "# train data image generator\n",
        "train_datagen = ImageDataGenerator(\n",
        "    horizontal_flip=True,\n",
        "    rescale = 1./255,\n",
        "    rotation_range=40,\n",
        "    width_shift_range=0.2,\n",
        "    height_shift_range=0.2,\n",
        "    shear_range=0.2,\n",
        "    zoom_range=0.2,\n",
        "    fill_mode='nearest'\n",
        ")\n",
        "\n",
        "# validation data image generator\n",
        "validation_datagen = ImageDataGenerator(\n",
        "    horizontal_flip=True,\n",
        "    rescale = 1./255,\n",
        "    rotation_range=40,\n",
        "    width_shift_range=0.2,\n",
        "    height_shift_range=0.2,\n",
        "    shear_range=0.2,\n",
        "    zoom_range=0.2,\n",
        "    fill_mode='nearest'\n",
        ")\n",
        "\n",
        "# Generator dari datagen\n",
        "\n",
        "train_generator = train_datagen.flow_from_directory(\n",
        "    train_dir,\n",
        "    batch_size=20,\n",
        "    class_mode='categorical',\n",
        "    target_size=(150, 150)\n",
        "    )\n",
        "validation_generator = validation_datagen.flow_from_directory(\n",
        "    validation_dir,\n",
        "    batch_size=20,\n",
        "    class_mode='categorical',\n",
        "    target_size=(150, 150)\n",
        "    )"
      ]
    },
    {
      "cell_type": "markdown",
      "metadata": {
        "id": "8tnr19xCSVDT"
      },
      "source": [
        "# Membuat model #1\n",
        "Model harus menggunakan model sequential."
      ]
    },
    {
      "cell_type": "markdown",
      "metadata": {
        "id": "x5KEFySZLXxs"
      },
      "source": [
        "## Pretrained model Inception V3"
      ]
    },
    {
      "cell_type": "code",
      "execution_count": 9,
      "metadata": {
        "colab": {
          "base_uri": "https://localhost:8080/"
        },
        "id": "e9PqR7WZLXTK",
        "outputId": "d5733a2a-523c-4ee1-fbd7-3498618ca778"
      },
      "outputs": [
        {
          "name": "stdout",
          "output_type": "stream",
          "text": [
            "--2021-06-12 08:40:37--  https://storage.googleapis.com/mledu-datasets/inception_v3_weights_tf_dim_ordering_tf_kernels_notop.h5\n",
            "Resolving storage.googleapis.com (storage.googleapis.com)... 74.125.70.128, 74.125.132.128, 74.125.201.128, ...\n",
            "Connecting to storage.googleapis.com (storage.googleapis.com)|74.125.70.128|:443... connected.\n",
            "HTTP request sent, awaiting response... 200 OK\n",
            "Length: 87910968 (84M) [application/x-hdf]\n",
            "Saving to: ‘/content/inception.h5’\n",
            "\n",
            "/content/inception. 100%[===================>]  83.84M   114MB/s    in 0.7s    \n",
            "\n",
            "2021-06-12 08:40:38 (114 MB/s) - ‘/content/inception.h5’ saved [87910968/87910968]\n",
            "\n"
          ]
        }
      ],
      "source": [
        "!wget --no-check-certificate \\\n",
        "    https://storage.googleapis.com/mledu-datasets/inception_v3_weights_tf_dim_ordering_tf_kernels_notop.h5 \\\n",
        "    -O /content/inception.h5\n",
        "\n",
        "model_dir = \"/content/inception.h5\"\n",
        "inception_model = InceptionV3(input_shape = (150, 150, 3),\n",
        "                               include_top = False,\n",
        "                               weights = None)\n",
        "\n",
        "inception_model.load_weights(model_dir)\n",
        "\n",
        "# Setting freeze inception model yg sudah di load\n",
        "for layer in inception_model.layers:\n",
        "  layer.trainable = False"
      ]
    },
    {
      "cell_type": "markdown",
      "metadata": {
        "id": "R_i7Qmj_YT-j"
      },
      "source": [
        "## Model"
      ]
    },
    {
      "cell_type": "code",
      "execution_count": 10,
      "metadata": {
        "colab": {
          "base_uri": "https://localhost:8080/"
        },
        "id": "rAT8bwOZSPn6",
        "outputId": "1525826e-c1ae-489b-bb31-6e49c0e3afdd"
      },
      "outputs": [
        {
          "name": "stdout",
          "output_type": "stream",
          "text": [
            "Model: \"sequential\"\n",
            "_________________________________________________________________\n",
            "Layer (type)                 Output Shape              Param #   \n",
            "=================================================================\n",
            "inception_v3 (Functional)    (None, 3, 3, 2048)        21802784  \n",
            "_________________________________________________________________\n",
            "flatten (Flatten)            (None, 18432)             0         \n",
            "_________________________________________________________________\n",
            "dense (Dense)                (None, 512)               9437696   \n",
            "_________________________________________________________________\n",
            "dropout (Dropout)            (None, 512)               0         \n",
            "_________________________________________________________________\n",
            "dense_1 (Dense)              (None, 3)                 1539      \n",
            "=================================================================\n",
            "Total params: 31,242,019\n",
            "Trainable params: 9,439,235\n",
            "Non-trainable params: 21,802,784\n",
            "_________________________________________________________________\n"
          ]
        }
      ],
      "source": [
        "model = tf.keras.models.Sequential([\n",
        "    inception_model,\n",
        "    tf.keras.layers.Flatten(),\n",
        "    tf.keras.layers.Dense(512, activation='relu'),\n",
        "    tf.keras.layers.Dropout(0.25),\n",
        "    tf.keras.layers.Dense(3, activation='softmax')\n",
        "])\n",
        "model.summary()\n",
        "model.compile(\n",
        "    loss=\"categorical_crossentropy\",\n",
        "    optimizer=RMSprop(learning_rate=0.0001),\n",
        "    metrics=['accuracy']\n",
        ")"
      ]
    },
    {
      "cell_type": "markdown",
      "metadata": {
        "id": "2zZA3yuGEC9J"
      },
      "source": [
        "## Callback\n",
        "Training akan berhenti saat akurasi mencapai 96%"
      ]
    },
    {
      "cell_type": "code",
      "execution_count": 12,
      "metadata": {
        "id": "U1hkqlKREE24"
      },
      "outputs": [],
      "source": [
        "akurasi = 0.96\n",
        "\n",
        "class callbackAcc(tf.keras.callbacks.Callback):\n",
        "  def on_epoch_end(self, epoch, logs={}):\n",
        "    if(logs.get('accuracy')>akurasi):\n",
        "      print(\"\\nTraining selesai, akurasi lebih dari 96%\")\n",
        "      self.model.stop_training = True"
      ]
    },
    {
      "cell_type": "markdown",
      "metadata": {
        "id": "jyi2ik3dUN4S"
      },
      "source": [
        "## Melatih model\n",
        "Pelatihan model tidak melebihi waktu 30 menit."
      ]
    },
    {
      "cell_type": "code",
      "execution_count": 13,
      "metadata": {
        "colab": {
          "base_uri": "https://localhost:8080/"
        },
        "id": "J6gdAW1uUNgE",
        "outputId": "1f7fceed-24b9-41cb-b2b7-4c710e335305"
      },
      "outputs": [
        {
          "name": "stdout",
          "output_type": "stream",
          "text": [
            "Epoch 1/25\n",
            "25/25 - 38s - loss: 2.5711 - accuracy: 0.7220 - val_loss: 0.4194 - val_accuracy: 0.9200\n",
            "Epoch 2/25\n",
            "25/25 - 5s - loss: 0.6498 - accuracy: 0.8167 - val_loss: 0.1102 - val_accuracy: 0.9600\n",
            "Epoch 3/25\n",
            "25/25 - 5s - loss: 0.4771 - accuracy: 0.8780 - val_loss: 0.9935 - val_accuracy: 0.7600\n",
            "Epoch 4/25\n",
            "25/25 - 5s - loss: 0.3182 - accuracy: 0.9160 - val_loss: 0.5450 - val_accuracy: 0.8700\n",
            "Epoch 5/25\n",
            "25/25 - 5s - loss: 0.3944 - accuracy: 0.9200 - val_loss: 0.4339 - val_accuracy: 0.8900\n",
            "Epoch 6/25\n",
            "25/25 - 5s - loss: 0.5725 - accuracy: 0.8820 - val_loss: 0.7029 - val_accuracy: 0.8100\n",
            "Epoch 7/25\n",
            "25/25 - 5s - loss: 0.3037 - accuracy: 0.9200 - val_loss: 0.3172 - val_accuracy: 0.9300\n",
            "Epoch 8/25\n",
            "25/25 - 5s - loss: 0.2933 - accuracy: 0.9240 - val_loss: 0.1078 - val_accuracy: 0.9700\n",
            "Epoch 9/25\n",
            "25/25 - 5s - loss: 0.2666 - accuracy: 0.9380 - val_loss: 0.2322 - val_accuracy: 0.9300\n",
            "Epoch 10/25\n",
            "25/25 - 5s - loss: 0.3403 - accuracy: 0.9100 - val_loss: 0.4951 - val_accuracy: 0.8500\n",
            "Epoch 11/25\n",
            "25/25 - 5s - loss: 0.2953 - accuracy: 0.9240 - val_loss: 0.2278 - val_accuracy: 0.9500\n",
            "Epoch 12/25\n",
            "25/25 - 5s - loss: 0.2407 - accuracy: 0.9369 - val_loss: 0.2678 - val_accuracy: 0.9400\n",
            "Epoch 13/25\n",
            "25/25 - 5s - loss: 0.3102 - accuracy: 0.9380 - val_loss: 0.3730 - val_accuracy: 0.9300\n",
            "Epoch 14/25\n",
            "25/25 - 5s - loss: 0.2934 - accuracy: 0.9409 - val_loss: 1.0509 - val_accuracy: 0.8800\n",
            "Epoch 15/25\n",
            "25/25 - 5s - loss: 0.3974 - accuracy: 0.9185 - val_loss: 0.0720 - val_accuracy: 0.9700\n",
            "Epoch 16/25\n",
            "25/25 - 4s - loss: 0.2491 - accuracy: 0.9572 - val_loss: 0.3046 - val_accuracy: 0.9500\n",
            "Epoch 17/25\n",
            "25/25 - 5s - loss: 0.2271 - accuracy: 0.9480 - val_loss: 0.0808 - val_accuracy: 0.9600\n",
            "Epoch 18/25\n",
            "25/25 - 5s - loss: 0.3256 - accuracy: 0.9300 - val_loss: 0.3952 - val_accuracy: 0.9100\n",
            "Epoch 19/25\n",
            "25/25 - 5s - loss: 0.1646 - accuracy: 0.9633 - val_loss: 0.4331 - val_accuracy: 0.8600\n",
            "\n",
            "Training selesai, akurasi lebih dari 96%\n"
          ]
        }
      ],
      "source": [
        "# Memanggil callback class\n",
        "callback = callbackAcc()\n",
        "\n",
        "# taruh dalam history agar bisa menampilkan perkembangan training\n",
        "history = model.fit(\n",
        "                    train_generator,\n",
        "                    steps_per_epoch=25,\n",
        "                    epochs=25,\n",
        "                    validation_data=validation_generator,\n",
        "                    validation_steps=5,\n",
        "                    verbose=2,\n",
        "                    callbacks=[callback]\n",
        "                    )"
      ]
    },
    {
      "cell_type": "markdown",
      "metadata": {
        "id": "BsO2YSBXBwxC"
      },
      "source": [
        "## Akurasi Model\n",
        "Akurasi dari model minimal 85%"
      ]
    },
    {
      "cell_type": "code",
      "execution_count": 14,
      "metadata": {
        "colab": {
          "base_uri": "https://localhost:8080/",
          "height": 348
        },
        "id": "v48AJZdwBzz_",
        "outputId": "3156108e-64d4-4f14-ed3f-34503410c967"
      },
      "outputs": [
        {
          "data": {
            "image/png": "[encoded data removed]",
            "text/plain": [
              "<Figure size 1152x360 with 2 Axes>"
            ]
          },
          "metadata": {
            "needs_background": "light",
            "tags": []
          },
          "output_type": "display_data"
        }
      ],
      "source": [
        "def plot_result(history):\n",
        "  plt.figure(figsize=(16,5))\n",
        "  plt.subplot(1,2,1)\n",
        "  plt.plot(history.history['accuracy'], label='Akurasi Training')\n",
        "  plt.plot(history.history['val_accuracy'], label='Akurasi Validasi')\n",
        "  plt.title('Akurasi')\n",
        "  plt.xlabel('Epoch')\n",
        "  plt.ylabel('Accuracy')\n",
        "  plt.legend()\n",
        "  plt.grid(True)\n",
        "\n",
        "  plt.subplot(1,2,2)\n",
        "  plt.plot(history.history['loss'], label='Loss Training')\n",
        "  plt.plot(history.history['val_loss'], label='Loss Validasi')\n",
        "  plt.title('Loss')\n",
        "  plt.xlabel('Epoch')\n",
        "  plt.ylabel('Loss')\n",
        "  plt.legend()\n",
        "  plt.grid(True)\n",
        "\n",
        "plot_result(history)"
      ]
    },
    {
      "cell_type": "markdown",
      "metadata": {
        "id": "D4g75i5CaNQR"
      },
      "source": [
        "# Membuat model #2"
      ]
    },
    {
      "cell_type": "markdown",
      "metadata": {
        "id": "UV-qN-JcZsq7"
      },
      "source": [
        "## Pretrained model MobileNetV2"
      ]
    },
    {
      "cell_type": "code",
      "execution_count": 22,
      "metadata": {
        "colab": {
          "base_uri": "https://localhost:8080/"
        },
        "id": "AO9t8WH4Zr8w",
        "outputId": "dea7127c-56b8-4bec-ef95-f54a8d5e816f"
      },
      "outputs": [
        {
          "name": "stdout",
          "output_type": "stream",
          "text": [
            "WARNING:tensorflow:`input_shape` is undefined or non-square, or `rows` is not in [96, 128, 160, 192, 224]. Weights for input shape (224, 224) will be loaded as the default.\n",
            "Downloading data from https://storage.googleapis.com/tensorflow/keras-applications/mobilenet_v2/mobilenet_v2_weights_tf_dim_ordering_tf_kernels_1.0_224_no_top.h5\n",
            "9412608/9406464 [==============================] - 0s 0us/step\n"
          ]
        }
      ],
      "source": [
        "mobileNet_model = tf.keras.applications.MobileNetV2(\n",
        "                              input_shape = (150, 150, 3),\n",
        "                              include_top = False)\n",
        "for layer in mobileNet_model.layers:\n",
        "  layer.trainable = False"
      ]
    },
    {
      "cell_type": "markdown",
      "metadata": {
        "id": "Ax2sZiPXarbs"
      },
      "source": [
        "## Model #2"
      ]
    },
    {
      "cell_type": "code",
      "execution_count": 28,
      "metadata": {
        "colab": {
          "base_uri": "https://localhost:8080/"
        },
        "id": "vwZV4yqvarbu",
        "outputId": "30d02737-f98b-41ef-92ad-6d422643481b"
      },
      "outputs": [
        {
          "name": "stdout",
          "output_type": "stream",
          "text": [
            "Model: \"sequential_4\"\n",
            "_________________________________________________________________\n",
            "Layer (type)                 Output Shape              Param #   \n",
            "=================================================================\n",
            "mobilenetv2_1.00_224 (Functi (None, 5, 5, 1280)        2257984   \n",
            "_________________________________________________________________\n",
            "flatten_4 (Flatten)          (None, 32000)             0         \n",
            "_________________________________________________________________\n",
            "dense_8 (Dense)              (None, 512)               16384512  \n",
            "_________________________________________________________________\n",
            "dropout_4 (Dropout)          (None, 512)               0         \n",
            "_________________________________________________________________\n",
            "dense_9 (Dense)              (None, 3)                 1539      \n",
            "=================================================================\n",
            "Total params: 18,644,035\n",
            "Trainable params: 16,386,051\n",
            "Non-trainable params: 2,257,984\n",
            "_________________________________________________________________\n"
          ]
        }
      ],
      "source": [
        "model2 = tf.keras.models.Sequential([\n",
        "    mobileNet_model,\n",
        "    tf.keras.layers.Flatten(),\n",
        "    tf.keras.layers.Dense(512, activation='relu'),\n",
        "    tf.keras.layers.Dropout(0.25),\n",
        "    tf.keras.layers.Dense(3, activation='softmax')\n",
        "])\n",
        "model2.summary()\n",
        "model2.compile(\n",
        "    loss=\"categorical_crossentropy\",\n",
        "    optimizer='rmsprop',\n",
        "    metrics=['accuracy']\n",
        ")"
      ]
    },
    {
      "cell_type": "markdown",
      "metadata": {
        "id": "xAg6PTg9a0lN"
      },
      "source": [
        "## Melatih model #2"
      ]
    },
    {
      "cell_type": "code",
      "execution_count": 29,
      "metadata": {
        "colab": {
          "base_uri": "https://localhost:8080/"
        },
        "id": "4YBmIxeJa3UG",
        "outputId": "6c767b7f-ac9f-4906-f335-4dee88a75d9f"
      },
      "outputs": [
        {
          "name": "stdout",
          "output_type": "stream",
          "text": [
            "Epoch 1/25\n",
            "25/25 - 8s - loss: 22.6273 - accuracy: 0.7200 - val_loss: 4.0605 - val_accuracy: 0.8700\n",
            "Epoch 2/25\n",
            "25/25 - 4s - loss: 3.3943 - accuracy: 0.8740 - val_loss: 5.7087 - val_accuracy: 0.8500\n",
            "Epoch 3/25\n",
            "25/25 - 4s - loss: 2.7601 - accuracy: 0.8760 - val_loss: 0.4970 - val_accuracy: 0.9300\n",
            "Epoch 4/25\n",
            "25/25 - 4s - loss: 0.9758 - accuracy: 0.9440 - val_loss: 0.5250 - val_accuracy: 0.9400\n",
            "Epoch 5/25\n",
            "25/25 - 4s - loss: 1.4025 - accuracy: 0.9020 - val_loss: 1.1800 - val_accuracy: 0.9200\n",
            "Epoch 6/25\n",
            "25/25 - 4s - loss: 1.2665 - accuracy: 0.9206 - val_loss: 0.9755 - val_accuracy: 0.9500\n",
            "Epoch 7/25\n",
            "25/25 - 4s - loss: 1.0040 - accuracy: 0.9260 - val_loss: 0.0028 - val_accuracy: 1.0000\n",
            "Epoch 8/25\n",
            "25/25 - 4s - loss: 0.8555 - accuracy: 0.9400 - val_loss: 0.0139 - val_accuracy: 0.9900\n",
            "Epoch 9/25\n",
            "25/25 - 4s - loss: 0.9611 - accuracy: 0.9165 - val_loss: 0.4075 - val_accuracy: 0.9400\n",
            "Epoch 10/25\n",
            "25/25 - 4s - loss: 0.4122 - accuracy: 0.9580 - val_loss: 0.3241 - val_accuracy: 0.9600\n",
            "Epoch 11/25\n",
            "25/25 - 4s - loss: 0.5551 - accuracy: 0.9369 - val_loss: 0.0610 - val_accuracy: 0.9800\n",
            "Epoch 12/25\n",
            "25/25 - 4s - loss: 0.6245 - accuracy: 0.9511 - val_loss: 0.1059 - val_accuracy: 0.9800\n",
            "Epoch 13/25\n",
            "25/25 - 4s - loss: 0.4473 - accuracy: 0.9450 - val_loss: 0.5461 - val_accuracy: 0.9600\n",
            "Epoch 14/25\n",
            "25/25 - 4s - loss: 0.4529 - accuracy: 0.9572 - val_loss: 0.0142 - val_accuracy: 0.9900\n",
            "Epoch 15/25\n",
            "25/25 - 4s - loss: 0.4895 - accuracy: 0.9520 - val_loss: 0.0614 - val_accuracy: 0.9600\n",
            "Epoch 16/25\n",
            "25/25 - 4s - loss: 0.4303 - accuracy: 0.9613 - val_loss: 0.3097 - val_accuracy: 0.9600\n",
            "\n",
            "Training selesai, akurasi lebih dari 96%\n"
          ]
        },
        {
          "name": "stderr",
          "output_type": "stream",
          "text": [
            "/usr/local/lib/python3.7/dist-packages/tensorflow/python/keras/utils/generic_utils.py:497: CustomMaskWarning: Custom mask layers require a config and must override get_config. When loading, the custom mask layer must be passed to the custom_objects argument.\n",
            "  category=CustomMaskWarning)\n"
          ]
        }
      ],
      "source": [
        "history2 = model2.fit(\n",
        "                    train_generator,\n",
        "                    steps_per_epoch=25,\n",
        "                    epochs=25,\n",
        "                    validation_data=validation_generator,\n",
        "                    validation_steps=5,\n",
        "                    verbose=2,\n",
        "                    callbacks=[callback]\n",
        "                    )\n",
        "model2.save('model_mnv2.h5')"
      ]
    },
    {
      "cell_type": "markdown",
      "metadata": {
        "id": "jUAbZX0sbAF4"
      },
      "source": [
        "## Akurasi model #2"
      ]
    },
    {
      "cell_type": "code",
      "execution_count": 30,
      "metadata": {
        "colab": {
          "base_uri": "https://localhost:8080/",
          "height": 348
        },
        "id": "ncuQ2t15bFKv",
        "outputId": "c52eb14b-cafc-4515-9ab3-a269df0f236a"
      },
      "outputs": [
        {
          "data": {
            "image/png": "[encoded data removed]",
            "text/plain": [
              "<Figure size 1152x360 with 2 Axes>"
            ]
          },
          "metadata": {
            "needs_background": "light",
            "tags": []
          },
          "output_type": "display_data"
        }
      ],
      "source": [
        "plot_result(history2)"
      ]
    },
    {
      "cell_type": "markdown",
      "metadata": {
        "id": "KQyUXpcncMqt"
      },
      "source": [
        "**Kita akan mencoba cell bawah ini menggunakan model #2 yang memiliki akurasi lebih tinggi.**"
      ]
    },
    {
      "cell_type": "markdown",
      "metadata": {
        "id": "YohSTWFEJ6Kw"
      },
      "source": [
        "# Test upload Google Colab\n",
        "Dapat memprediksi gambar yang diunggah ke Colab."
      ]
    },
    {
      "cell_type": "code",
      "execution_count": 59,
      "metadata": {
        "colab": {
          "base_uri": "https://localhost:8080/",
          "height": 494,
          "resources": {
            "http://localhost:8080/nbextensions/google.colab/files.js": {
              "data": "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",
              "headers": [
                [
                  "content-type",
                  "application/javascript"
                ]
              ],
              "ok": true,
              "status": 200,
              "status_text": ""
            }
          }
        },
        "id": "HHIVNUulKW8v",
        "outputId": "daa202cf-9d67-47bc-c767-51c4e194422e"
      },
      "outputs": [
        {
          "data": {
            "text/html": [
              "\n",
              "     <input type=\"file\" id=\"files-e2a10aa3-90f8-4039-8bc2-7e612e52a8aa\" name=\"files[]\" multiple disabled\n",
              "        style=\"border:none\" />\n",
              "     <output id=\"result-e2a10aa3-90f8-4039-8bc2-7e612e52a8aa\">\n",
              "      Upload widget is only available when the cell has been executed in the\n",
              "      current browser session. Please rerun this cell to enable.\n",
              "      </output>\n",
              "      <script src=\"/nbextensions/google.colab/files.js\"></script> "
            ],
            "text/plain": [
              "<IPython.core.display.HTML object>"
            ]
          },
          "metadata": {
            "tags": []
          },
          "output_type": "display_data"
        },
        {
          "name": "stdout",
          "output_type": "stream",
          "text": [
            "Saving rock2.png to rock2 (3).png\n",
            "Saving paper.png to paper (4).png\n",
            "Saving rock.png to rock (5).png\n",
            "rock2.png\n",
            "Prediksi: Batu/Rock\n",
            "paper.png\n",
            "Prediksi: Kertas/Paper\n",
            "rock.png\n",
            "Prediksi: Batu/Rock\n"
          ]
        },
        {
          "data": {
            "image/png": "[encoded data removed]",
            "text/plain": [
              "<Figure size 432x288 with 1 Axes>"
            ]
          },
          "metadata": {
            "needs_background": "light",
            "tags": []
          },
          "output_type": "display_data"
        }
      ],
      "source": [
        "%matplotlib inline\n",
        "uploaded = files.upload()\n",
        "for f in uploaded.keys():\n",
        "  img = image.load_img(f, target_size=(150,150))\n",
        "  imgplot = plt.imshow(img)\n",
        "  x = image.img_to_array(img)\n",
        "  x = np.expand_dims(x, axis=0)\n",
        "\n",
        "  images = np.vstack([x])\n",
        "  pred = model2.predict(images, batch_size=10)\n",
        "  \n",
        "  print(f)\n",
        "  result = np.where(pred == np.max(pred))\n",
        "  if result[1] == 0:\n",
        "    print(\"Prediksi: Batu/Rock\")\n",
        "  elif result[1] == 1:\n",
        "    print(\"Prediksi: Kertas/Paper\")\n",
        "  elif result[1] == 2:\n",
        "    print(\"Prediksi: Gunting/Scissors\")\n"
      ]
    }
  ],
  "metadata": {
    "accelerator": "GPU",
    "colab": {
      "collapsed_sections": [],
      "name": "Dicoding Proyek Akhir : Klasifikasi Gambar.ipynb",
      "provenance": [],
      "toc_visible": true
    },
    "kernelspec": {
      "display_name": "Python 3",
      "name": "python3"
    },
    "language_info": {
      "name": "python"
    }
  },
  "nbformat": 4,
  "nbformat_minor": 0
}
